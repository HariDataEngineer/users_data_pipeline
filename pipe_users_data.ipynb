{
 "cells": [
  {
   "cell_type": "markdown",
   "id": "47e3098d-fc08-47c5-8961-f8bd7bab24bc",
   "metadata": {},
   "source": [
    "### Shell script to get the data from user data file and transform into CSV and then store it into postgres sql table"
   ]
  },
  {
   "cell_type": "markdown",
   "id": "95204364-d5a9-478f-b3c6-56e014571071",
   "metadata": {},
   "source": [
    "### To better understand this script, follow the prerequisites notebook first"
   ]
  },
  {
   "cell_type": "code",
   "execution_count": 1,
   "id": "cf1c77e0-7fb3-41ca-88b7-3bad1c044716",
   "metadata": {},
   "outputs": [
    {
     "name": "stderr",
     "output_type": "stream",
     "text": [
      "UsageError: Line magic function `%sh` not found (But cell magic `%%sh` exists, did you mean that instead?).\n"
     ]
    }
   ],
   "source": [
    "%sh\n",
    "\n",
    "# Extract phase\n",
    "\n",
    "echo \"Extracting data\"\n",
    "\n",
    "# Extract the columns 1 (user name), 2 (user id) and \n",
    "# 6 (home directory path) from /etc/passwd\n",
    "\n",
    "cut -d\":\" -f1,3,6 /etc/passwd > extracted-data.txt\n",
    "\n",
    "# Transform phase\n",
    "echo \"Transforming data\"\n",
    "# read the extracted data and replace the colons with commas.\n",
    "\n",
    "tr \":\" \",\" < extracted-data.txt > transformed-data.csv\n",
    "\n",
    "# Load phase\n",
    "echo \"Loading data\"\n",
    "# Send the instructions to connect to 'template1' and\n",
    "# copy the file to the table 'users' through command pipeline.\n",
    "\n",
    "echo \"\\c template1;\\COPY users  FROM '/home/project/transformed-data.csv' DELIMITERS ',' CSV;\" | psql --username=postgres --host=localhost\n",
    "\n",
    "\n",
    "\n"
   ]
  },
  {
   "cell_type": "markdown",
   "id": "96b7e3e2-acef-4aee-8ec7-ec4220b41ab3",
   "metadata": {},
   "source": []
  }
 ],
 "metadata": {
  "kernelspec": {
   "display_name": "Python 3 (ipykernel)",
   "language": "python",
   "name": "python3"
  },
  "language_info": {
   "codemirror_mode": {
    "name": "ipython",
    "version": 3
   },
   "file_extension": ".py",
   "mimetype": "text/x-python",
   "name": "python",
   "nbconvert_exporter": "python",
   "pygments_lexer": "ipython3",
   "version": "3.10.4"
  }
 },
 "nbformat": 4,
 "nbformat_minor": 5
}
