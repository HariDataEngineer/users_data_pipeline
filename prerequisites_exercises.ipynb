{
 "cells": [
  {
   "cell_type": "code",
   "execution_count": 1,
   "id": "9b8602a5-46d1-4e65-b258-3a5570ae793a",
   "metadata": {},
   "outputs": [],
   "source": [
    "### Exercise 1 - Extracting data using cut command"
   ]
  },
  {
   "cell_type": "markdown",
   "id": "a99a667e-f5c1-467d-a466-8268e16a2db2",
   "metadata": {},
   "source": [
    "### The command below shows how to extract the first four characters.\n",
    "\n",
    "### echo \"database\" | cut -c1-4\n",
    "\n",
    "### The command below shows how to extract 5th to 8th characters.\n",
    "\n",
    "### echo \"database\" | cut -c5-8\n",
    "\n",
    "### The command below shows how to extract the 1st and 5th characters.\n",
    "\n",
    "### echo \"database\" | cut -c1,5\n",
    "\n",
    "### The command below extracts user names (the first field) from /etc/passwd.\n",
    "\n",
    "### cut -d\":\" -f1 /etc/passwd \n",
    "### The command below extracts multiple fields 1st, 3rd, and 6th (username, userid, and home directory) from /etc/passwd.\n",
    "\n",
    "### cut -d\":\" -f1,3,6 /etc/passwd \n",
    "### The command below extracts a range of fields 3rd to 6th (userid, groupid, user description and home directory) from /etc/passwd.\n",
    "\n",
    "### cut -d\":\" -f3-6 /etc/passwd "
   ]
  },
  {
   "cell_type": "code",
   "execution_count": null,
   "id": "5f14db50-0c02-4ca0-ba1f-e59faba0e81c",
   "metadata": {},
   "outputs": [],
   "source": [
    "### Exercise 2 - Transforming data using tr"
   ]
  },
  {
   "cell_type": "markdown",
   "id": "5a4e520f-ab34-4d48-ad9a-3f2fe9d8c775",
   "metadata": {},
   "source": [
    "### The command below translates all lower case alphabets to upper case.\n",
    "\n",
    "### echo \"Shell Scripting\" | tr \"[a-z]\" \"[A-Z]\" \n",
    "### You could also use the pre-defined character sets also for this purpose:\n",
    "\n",
    "### echo \"Shell Scripting\" | tr \"[:lower:]\" \"[:upper:]\" \n",
    "### The command below translates all upper case alphabets to lower case.\n",
    "\n",
    "### echo \"Shell Scripting\" | tr  \"[A-Z]\" \"[a-z]\" \n",
    "### Squeeze repeating occurrences of characters\n",
    "\n",
    "### The -s option replaces a sequence of a repeated characters with a single occurrence of that character.\n",
    "\n",
    "### The command below replaces repeat occurrences of 'space' in the output of ps command with one 'space'.\n",
    "\n",
    "### ps | tr -s \" \"\n",
    "### In the above example, the space character within quotes can be replaced with the following : \"[:space:]\".\n",
    "\n",
    "### Delete characters\n",
    "\n",
    "### We can delete specified characters using the -d option.\n",
    "\n",
    "### The command below deletes all digits.\n",
    "\n",
    "### echo \"My login pin is 5634\" | tr -d \"[:digit:]\""
   ]
  },
  {
   "cell_type": "code",
   "execution_count": null,
   "id": "90eee88c-ba42-4fa5-8593-9ee7db1a259c",
   "metadata": {},
   "outputs": [],
   "source": []
  }
 ],
 "metadata": {
  "kernelspec": {
   "display_name": "Python 3 (ipykernel)",
   "language": "python",
   "name": "python3"
  },
  "language_info": {
   "codemirror_mode": {
    "name": "ipython",
    "version": 3
   },
   "file_extension": ".py",
   "mimetype": "text/x-python",
   "name": "python",
   "nbconvert_exporter": "python",
   "pygments_lexer": "ipython3",
   "version": "3.10.4"
  }
 },
 "nbformat": 4,
 "nbformat_minor": 5
}
